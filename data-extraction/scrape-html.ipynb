{
 "cells": [
  {
   "cell_type": "code",
   "execution_count": 6,
   "outputs": [],
   "source": [
    "from bs4 import BeautifulSoup\n",
    "from glob import glob\n",
    "from pathlib import Path\n",
    "import json\n",
    "from helpers.scrape_html import get_html2text_handler"
   ],
   "metadata": {
    "collapsed": false,
    "ExecuteTime": {
     "end_time": "2023-10-27T05:48:50.264336Z",
     "start_time": "2023-10-27T05:48:50.205424Z"
    }
   },
   "id": "21cb6069d5872562"
  },
  {
   "cell_type": "code",
   "execution_count": 15,
   "outputs": [],
   "source": [
    "def clean_webpage(page):\n",
    "  page = page.replace(\"*\", \" \")\n",
    "  page = page.replace(\"###\", \" \")\n",
    "  page = page.replace(\"##\", \" \")\n",
    "  page = page.replace(\"“\", \"\\\"\")\n",
    "  page = page.replace(\"”\", \"\\\"\")\n",
    "  page = page.encode(\"ascii\", \"ignore\").decode()\n",
    "  \n",
    "  cleaned_page = []\n",
    "  for line in page.split(\"\\n\"):\n",
    "    line_text = line.strip()\n",
    "    \n",
    "    if not line_text:\n",
    "      continue\n",
    "    \n",
    "    cleaned_line = \" \".join(line_text.split())\n",
    "    cleaned_page.append(cleaned_line)\n",
    "  return \" \".join(cleaned_page)\n",
    "  "
   ],
   "metadata": {
    "collapsed": false,
    "ExecuteTime": {
     "end_time": "2023-10-27T05:50:58.928124Z",
     "start_time": "2023-10-27T05:50:58.924152Z"
    }
   },
   "id": "cefb92786ea556e5"
  },
  {
   "cell_type": "code",
   "execution_count": 1,
   "id": "initial_id",
   "metadata": {
    "collapsed": true,
    "ExecuteTime": {
     "end_time": "2023-10-31T03:30:00.695908Z",
     "start_time": "2023-10-31T03:30:00.688166Z"
    }
   },
   "outputs": [],
   "source": [
    "def get_question_answer(html_path):\n",
    "  h = get_html2text_handler()\n",
    "  \n",
    "  html_path = Path(html_path)\n",
    "  html_file = open(html_path)\n",
    "  soup = BeautifulSoup(html_file)\n",
    "  html_file.close()\n",
    "  \n",
    "  question = soup.find(id=\"kb_article_question\")\n",
    "  if not question:\n",
    "    return None\n",
    "  question = question.text.strip()\n",
    "  \n",
    "  answer = soup.find(id=\"kb_article_text\")\n",
    "  if not answer:\n",
    "    return None\n",
    "  answer = answer.prettify()\n",
    "  \n",
    "  return {\n",
    "    \"id\": html_path.stem,\n",
    "    \"question\": question,\n",
    "    \"answer\": clean_webpage(h.handle(answer))\n",
    "  } "
   ]
  },
  {
   "cell_type": "code",
   "execution_count": 17,
   "outputs": [],
   "source": [
    "def extract_html_to_file():\n",
    "  data = []\n",
    "  \n",
    "  for path in glob(\"./html-archive/*.html\"):\n",
    "    question_answer = get_question_answer(path)\n",
    "\n",
    "    if not question_answer:\n",
    "      continue\n",
    "    \n",
    "    data.append(question_answer)\n",
    "  \n",
    "  with open(\"./data/html-text.json\", \"w+\") as html_data_file:\n",
    "    json.dump({\"data\": data}, html_data_file)"
   ],
   "metadata": {
    "collapsed": false,
    "ExecuteTime": {
     "end_time": "2023-10-27T05:51:00.946247Z",
     "start_time": "2023-10-27T05:51:00.943510Z"
    }
   },
   "id": "dcdeeeec040ec645"
  },
  {
   "cell_type": "code",
   "execution_count": 18,
   "outputs": [],
   "source": [
    "extract_html_to_file()"
   ],
   "metadata": {
    "collapsed": false,
    "ExecuteTime": {
     "end_time": "2023-10-27T05:51:05.001196Z",
     "start_time": "2023-10-27T05:51:01.534444Z"
    }
   },
   "id": "ab12977f877bebd3"
  }
 ],
 "metadata": {
  "kernelspec": {
   "display_name": "Python 3",
   "language": "python",
   "name": "python3"
  },
  "language_info": {
   "codemirror_mode": {
    "name": "ipython",
    "version": 2
   },
   "file_extension": ".py",
   "mimetype": "text/x-python",
   "name": "python",
   "nbconvert_exporter": "python",
   "pygments_lexer": "ipython2",
   "version": "2.7.6"
  }
 },
 "nbformat": 4,
 "nbformat_minor": 5
}
