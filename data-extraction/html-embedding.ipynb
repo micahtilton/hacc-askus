{
 "cells": [
  {
   "cell_type": "code",
   "execution_count": 7,
   "id": "initial_id",
   "metadata": {
    "collapsed": true,
    "ExecuteTime": {
     "end_time": "2023-11-06T14:42:29.442102Z",
     "start_time": "2023-11-06T14:42:29.434490Z"
    }
   },
   "outputs": [],
   "source": [
    "import json\n",
    "from helpers.openai_helper import split_by_tokens\n",
    "from helpers.openai_helper import get_embedding"
   ]
  },
  {
   "cell_type": "code",
   "execution_count": 8,
   "outputs": [],
   "source": [
    "with open(\"./data/html-text.json\") as f:\n",
    "    archive_data = json.load(f)['data']"
   ],
   "metadata": {
    "collapsed": false,
    "ExecuteTime": {
     "end_time": "2023-11-06T14:42:30.253170Z",
     "start_time": "2023-11-06T14:42:30.246040Z"
    }
   },
   "id": "9a5a04f7b065843f"
  },
  {
   "cell_type": "code",
   "execution_count": 9,
   "outputs": [],
   "source": [
    "def embed_archive(fp): \n",
    "    embedding_arr = []\n",
    "    \n",
    "    for data in archive_data:\n",
    "        text_to_embed = data['answer']\n",
    "        text_splits = split_by_tokens(text_to_embed)\n",
    "        \n",
    "        for text_split in text_splits:\n",
    "            embedding = get_embedding(data['question'] + \"\\n\" + text_split)\n",
    "            embedding_arr.append({\n",
    "                \"source\": f\"https://www.hawaii.edu/askus/{data['id']}\",\n",
    "                \"embedding\": embedding,\n",
    "                \"text\": text_split,\n",
    "            })\n",
    "    \n",
    "    with open(fp, \"w+\") as f:\n",
    "        json.dump(embedding_arr, f)"
   ],
   "metadata": {
    "collapsed": false,
    "ExecuteTime": {
     "end_time": "2023-11-06T14:42:33.658866Z",
     "start_time": "2023-11-06T14:42:33.653115Z"
    }
   },
   "id": "31c8195969925fd6"
  },
  {
   "cell_type": "code",
   "execution_count": 10,
   "outputs": [],
   "source": [
    "embed_archive(\"./data/embedding-data-archive.json\")"
   ],
   "metadata": {
    "collapsed": false,
    "ExecuteTime": {
     "end_time": "2023-11-06T14:47:29.731730Z",
     "start_time": "2023-11-06T14:42:41.072860Z"
    }
   },
   "id": "d50ffbda6f250bea"
  }
 ],
 "metadata": {
  "kernelspec": {
   "display_name": "Python 3",
   "language": "python",
   "name": "python3"
  },
  "language_info": {
   "codemirror_mode": {
    "name": "ipython",
    "version": 2
   },
   "file_extension": ".py",
   "mimetype": "text/x-python",
   "name": "python",
   "nbconvert_exporter": "python",
   "pygments_lexer": "ipython2",
   "version": "2.7.6"
  }
 },
 "nbformat": 4,
 "nbformat_minor": 5
}
