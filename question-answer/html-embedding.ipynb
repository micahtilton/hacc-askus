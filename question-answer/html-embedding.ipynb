{
 "cells": [
  {
   "cell_type": "code",
   "execution_count": 43,
   "id": "initial_id",
   "metadata": {
    "collapsed": true,
    "ExecuteTime": {
     "end_time": "2023-10-27T06:22:00.097358Z",
     "start_time": "2023-10-27T06:22:00.092944Z"
    }
   },
   "outputs": [],
   "source": [
    "import json\n",
    "import tiktoken\n",
    "import numpy as np\n",
    "from helpers.data_helper import get_embedding"
   ]
  },
  {
   "cell_type": "code",
   "execution_count": 44,
   "outputs": [],
   "source": [
    "with open(\"./data/html-text.json\") as f:\n",
    "    html_data = json.load(f)['data']"
   ],
   "metadata": {
    "collapsed": false,
    "ExecuteTime": {
     "end_time": "2023-10-27T06:22:00.749011Z",
     "start_time": "2023-10-27T06:22:00.742246Z"
    }
   },
   "id": "9a5a04f7b065843f"
  },
  {
   "cell_type": "code",
   "execution_count": 45,
   "outputs": [],
   "source": [
    "def split_by_tokens(text, max_tokes = 500):\n",
    "    enc = tiktoken.get_encoding(\"cl100k_base\")\n",
    "    tokens = enc.encode(text)\n",
    "    n_tokens = len(tokens)\n",
    "    n_splits = (n_tokens // max_tokes) + 1\n",
    "    return list(map(lambda x: enc.decode(x), np.array_split(tokens, n_splits)))"
   ],
   "metadata": {
    "collapsed": false,
    "ExecuteTime": {
     "end_time": "2023-10-27T06:22:01.228026Z",
     "start_time": "2023-10-27T06:22:01.225057Z"
    }
   },
   "id": "e523186b7733f731"
  },
  {
   "cell_type": "code",
   "execution_count": 47,
   "outputs": [],
   "source": [
    "embedding_arr = []\n",
    "\n",
    "for data in html_data:\n",
    "    text_to_embed = data['question'] + \"\\n\" + data['answer']\n",
    "    text_splits = split_by_tokens(text_to_embed)\n",
    "    \n",
    "    for text_split in text_splits:\n",
    "        embedding = get_embedding(text_split)\n",
    "        embedding_arr.append({\n",
    "            \"source\": data[\"id\"],\n",
    "            \"embedding\": embedding,\n",
    "            \"text\": text_split,\n",
    "        })\n",
    "\n",
    "with open(\"./data/embedding-data.json\", \"w+\") as f:\n",
    "    json.dump(embedding_arr, f)"
   ],
   "metadata": {
    "collapsed": false,
    "ExecuteTime": {
     "end_time": "2023-10-27T06:31:53.878020Z",
     "start_time": "2023-10-27T06:22:31.362767Z"
    }
   },
   "id": "31c8195969925fd6"
  },
  {
   "cell_type": "code",
   "execution_count": null,
   "outputs": [],
   "source": [],
   "metadata": {
    "collapsed": false,
    "ExecuteTime": {
     "end_time": "2023-10-27T08:38:24.277798Z",
     "start_time": "2023-10-27T08:38:24.276071Z"
    }
   },
   "id": "d50ffbda6f250bea"
  }
 ],
 "metadata": {
  "kernelspec": {
   "display_name": "Python 3",
   "language": "python",
   "name": "python3"
  },
  "language_info": {
   "codemirror_mode": {
    "name": "ipython",
    "version": 2
   },
   "file_extension": ".py",
   "mimetype": "text/x-python",
   "name": "python",
   "nbconvert_exporter": "python",
   "pygments_lexer": "ipython2",
   "version": "2.7.6"
  }
 },
 "nbformat": 4,
 "nbformat_minor": 5
}
