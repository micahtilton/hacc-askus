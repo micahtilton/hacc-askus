{
 "cells": [
  {
   "cell_type": "code",
   "execution_count": 16,
   "outputs": [],
   "source": [
    "from bs4 import BeautifulSoup\n",
    "import html2text\n",
    "from glob import glob\n",
    "from pathlib import Path\n",
    "import json"
   ],
   "metadata": {
    "collapsed": false,
    "ExecuteTime": {
     "end_time": "2023-10-24T20:15:28.826087Z",
     "start_time": "2023-10-24T20:15:28.824168Z"
    }
   },
   "id": "21cb6069d5872562"
  },
  {
   "cell_type": "code",
   "execution_count": 20,
   "outputs": [],
   "source": [
    "def clean_webpage(page):\n",
    "  cleaned_page = []\n",
    "  for line in page.split(\"\\n\"):\n",
    "    line_text = line.strip()\n",
    "    \n",
    "    if not line_text:\n",
    "      continue\n",
    "    \n",
    "    cleaned_line = \" \".join(line_text.split())\n",
    "    cleaned_page.append(cleaned_line)\n",
    "  return \"\\n\".join(cleaned_page)\n",
    "  "
   ],
   "metadata": {
    "collapsed": false,
    "ExecuteTime": {
     "end_time": "2023-10-24T21:01:12.151230Z",
     "start_time": "2023-10-24T21:01:12.145734Z"
    }
   },
   "id": "cefb92786ea556e5"
  },
  {
   "cell_type": "code",
   "execution_count": 33,
   "id": "initial_id",
   "metadata": {
    "collapsed": true,
    "ExecuteTime": {
     "end_time": "2023-10-24T21:10:14.229541Z",
     "start_time": "2023-10-24T21:10:14.227475Z"
    }
   },
   "outputs": [],
   "source": [
    "def get_question_answer(html_path):\n",
    "  h = html2text.HTML2Text()\n",
    "  h.ignore_images = True\n",
    "  h.tag_stack = False\n",
    "  h.drop_white_space = True\n",
    "  \n",
    "  html_path = Path(html_path)\n",
    "  html_file = open(html_path)\n",
    "  soup = BeautifulSoup(html_file)\n",
    "  html_file.close()\n",
    "  \n",
    "  question = soup.find(id=\"kb_article_question\")\n",
    "  if not question:\n",
    "    return None\n",
    "  question = question.text.strip()\n",
    "  \n",
    "  answer = soup.find(id=\"kb_article_text\")\n",
    "  if not answer:\n",
    "    return None\n",
    "  answer = answer.prettify()\n",
    "  \n",
    "  return {\n",
    "    \"id\": html_path.stem,\n",
    "    \"question\": question,\n",
    "    \"answer\": clean_webpage(h.handle(answer))\n",
    "  } "
   ]
  },
  {
   "cell_type": "code",
   "execution_count": 34,
   "outputs": [],
   "source": [
    "data = []\n",
    "\n",
    "for path in glob(\"../html-archive/*.html\"):\n",
    "  question_answer = get_question_answer(path)\n",
    "  \n",
    "  if not question_answer:\n",
    "    continue\n",
    "    \n",
    "  data.append(question_answer)\n",
    "\n",
    "with open(\"../data/html-data.json\", \"w+\") as html_data_file:\n",
    "  json.dump({\"data\": data}, html_data_file)"
   ],
   "metadata": {
    "collapsed": false,
    "ExecuteTime": {
     "end_time": "2023-10-24T21:10:19.891976Z",
     "start_time": "2023-10-24T21:10:14.833819Z"
    }
   },
   "id": "dcdeeeec040ec645"
  },
  {
   "cell_type": "code",
   "execution_count": null,
   "outputs": [],
   "source": [],
   "metadata": {
    "collapsed": false
   },
   "id": "71a72f9cff3693ce"
  }
 ],
 "metadata": {
  "kernelspec": {
   "display_name": "Python 3",
   "language": "python",
   "name": "python3"
  },
  "language_info": {
   "codemirror_mode": {
    "name": "ipython",
    "version": 2
   },
   "file_extension": ".py",
   "mimetype": "text/x-python",
   "name": "python",
   "nbconvert_exporter": "python",
   "pygments_lexer": "ipython2",
   "version": "2.7.6"
  }
 },
 "nbformat": 4,
 "nbformat_minor": 5
}
