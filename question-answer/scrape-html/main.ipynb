{
 "cells": [
  {
   "cell_type": "code",
   "execution_count": 4,
   "outputs": [],
   "source": [
    "from bs4 import BeautifulSoup\n",
    "import html2text\n",
    "from glob import glob\n",
    "from pathlib import Path\n",
    "import json\n",
    "import tiktoken"
   ],
   "metadata": {
    "collapsed": false,
    "ExecuteTime": {
     "end_time": "2023-10-26T10:00:52.279227Z",
     "start_time": "2023-10-26T10:00:52.265960Z"
    }
   },
   "id": "21cb6069d5872562"
  },
  {
   "cell_type": "code",
   "execution_count": 2,
   "outputs": [],
   "source": [
    "def clean_webpage(page):\n",
    "  cleaned_page = []\n",
    "  for line in page.split(\"\\n\"):\n",
    "    line_text = line.strip()\n",
    "    \n",
    "    if not line_text:\n",
    "      continue\n",
    "    \n",
    "    cleaned_line = \" \".join(line_text.split())\n",
    "    cleaned_page.append(cleaned_line)\n",
    "  return \"\\n\".join(cleaned_page)\n",
    "  "
   ],
   "metadata": {
    "collapsed": false,
    "ExecuteTime": {
     "end_time": "2023-10-26T10:00:00.629284Z",
     "start_time": "2023-10-26T10:00:00.620035Z"
    }
   },
   "id": "cefb92786ea556e5"
  },
  {
   "cell_type": "code",
   "execution_count": 10,
   "id": "initial_id",
   "metadata": {
    "collapsed": true,
    "ExecuteTime": {
     "end_time": "2023-10-26T10:19:06.445216Z",
     "start_time": "2023-10-26T10:19:06.441914Z"
    }
   },
   "outputs": [],
   "source": [
    "def get_question_answer(html_path):\n",
    "  h = html2text.HTML2Text()\n",
    "  h.ignore_emphasis = True\n",
    "  h.ignore_links = True\n",
    "  h.ignore_tables = True\n",
    "  h.ignore_images = True\n",
    "  h.tag_stack = False\n",
    "  h.drop_white_space = True\n",
    "  \n",
    "  html_path = Path(html_path)\n",
    "  html_file = open(html_path)\n",
    "  soup = BeautifulSoup(html_file)\n",
    "  html_file.close()\n",
    "  \n",
    "  question = soup.find(id=\"kb_article_question\")\n",
    "  if not question:\n",
    "    return None\n",
    "  question = question.text.strip()\n",
    "  \n",
    "  answer = soup.find(id=\"kb_article_text\")\n",
    "  if not answer:\n",
    "    return None\n",
    "  answer = answer.prettify()\n",
    "  \n",
    "  return {\n",
    "    \"id\": html_path.stem,\n",
    "    \"question\": question,\n",
    "    \"answer\": clean_webpage(h.handle(answer))\n",
    "  } "
   ]
  },
  {
   "cell_type": "code",
   "execution_count": 12,
   "outputs": [],
   "source": [
    "def extract_html_to_file():\n",
    "  data = []\n",
    "  \n",
    "  for path in glob(\"../html-archive/*.html\"):\n",
    "    question_answer = get_question_answer(path)\n",
    "    \n",
    "    if not question_answer:\n",
    "      continue\n",
    "    \n",
    "    data.append(question_answer)\n",
    "  \n",
    "  with open(\"../data/html-data-ignore-all.json\", \"w+\") as html_data_file:\n",
    "    json.dump({\"data\": data}, html_data_file)"
   ],
   "metadata": {
    "collapsed": false,
    "ExecuteTime": {
     "end_time": "2023-10-26T10:20:25.739034Z",
     "start_time": "2023-10-26T10:20:22.199254Z"
    }
   },
   "id": "dcdeeeec040ec645"
  },
  {
   "cell_type": "code",
   "execution_count": 13,
   "outputs": [
    {
     "name": "stdout",
     "output_type": "stream",
     "text": [
      "[{'len': 7463, 'path': '../html-archive/1758.html'}, {'len': 5929, 'path': '../html-archive/1156.html'}, {'len': 5054, 'path': '../html-archive/1066.html'}, {'len': 4549, 'path': '../html-archive/1888.html'}, {'len': 4152, 'path': '../html-archive/1157.html'}, {'len': 4134, 'path': '../html-archive/1852.html'}, {'len': 3914, 'path': '../html-archive/849.html'}, {'len': 3523, 'path': '../html-archive/1753.html'}, {'len': 3477, 'path': '../html-archive/1145.html'}, {'len': 3382, 'path': '../html-archive/1099.html'}, {'len': 3358, 'path': '../html-archive/1886.html'}, {'len': 3021, 'path': '../html-archive/1819.html'}, {'len': 3008, 'path': '../html-archive/1767.html'}, {'len': 2966, 'path': '../html-archive/1891.html'}, {'len': 2864, 'path': '../html-archive/1774.html'}, {'len': 2758, 'path': '../html-archive/1882.html'}, {'len': 2710, 'path': '../html-archive/1893.html'}, {'len': 2274, 'path': '../html-archive/588.html'}, {'len': 2187, 'path': '../html-archive/925.html'}, {'len': 2163, 'path': '../html-archive/1650.html'}]\n"
     ]
    }
   ],
   "source": [
    "data = []\n",
    "\n",
    "for path in glob(\"../html-archive/*.html\"):\n",
    "  question_answer = get_question_answer(path)\n",
    "\n",
    "  if not question_answer:\n",
    "    continue\n",
    "\n",
    "  enc = tiktoken.get_encoding(\"cl100k_base\")\n",
    "  data.append({\"len\": len(enc.encode(question_answer[\"answer\"])), \"path\": path})\n",
    "\n",
    "data.sort(key=lambda x: x[\"len\"], reverse=True)\n",
    "print(data[:20])"
   ],
   "metadata": {
    "collapsed": false,
    "ExecuteTime": {
     "end_time": "2023-10-26T10:23:32.218939Z",
     "start_time": "2023-10-26T10:23:28.562908Z"
    }
   },
   "id": "71a72f9cff3693ce"
  },
  {
   "cell_type": "code",
   "execution_count": 24,
   "outputs": [
    {
     "name": "stdout",
     "output_type": "stream",
     "text": [
      "The following steps will setup an automated vacation message for your\n",
      "Google@UH Gmail account. This vacation message will be sent in response to any\n",
      "incoming email messages you receive during the time period specified.\n",
      "1. Open your web browser to Google@UH Gmail .\n",
      "2. Login to your Google@UH email account with your UH username and password.\n",
      "3. Click the gear icon in the upper right, then select Settings .\n",
      "Figure 1 \\- Gmail Settings Menu\n",
      "4. In the General tab, scroll down to the Vacation responder : section. Select Vacation responder on .\n",
      "5. Enter the starting date and ending date in the appropriate First Day: and Last Day: boxes.\n",
      "6. Enter the subject and body of your message in the corresponding Subject : and Message : boxes.\n",
      "Figure 2 \\- Sample Vacation Responder Settings\n",
      "7. [Optional] Check the box next to Only send a response to people in my Contacts if you don't want everyone who emails you to know that you're away from your mail.\n",
      "8. [Optional] If you use Google Apps, you'll also see an option to only send a response to people in the University of Hawaii (hawaii.edu). If you check both of these boxes, only people who are in your contacts and your domain will receive the automatic response.\n",
      "9. Click Save Changes button.\n",
      "### Notes\n",
      "Your vacation responder starts at 12:00 AM on the start date (First Day) and\n",
      "ends at 11:59 PM on the end date (Last Day), unless you end it earlier.\n",
      "In general, your reply is only sent once to people who email you. However, if\n",
      "the same person contacts you again after four days and your vacation responder\n",
      "is still on, Gmail will send another vacation response to remind the person\n",
      "that you're away from your email. Your vacation response will start over each\n",
      "time you edit it, so if someone receives your initial vacation response, and\n",
      "then emails you again after you've edited the subject or body of the message,\n",
      "he or she will receive the edited response.\n",
      "Messages classified as spam and messages addressed to a mailing list you\n",
      "subscribe to will not receive a vacation response.\n",
      "Excerpts from http://mail.google.com/support/bin/answer.py?answer=25922\n",
      "### Tips\n",
      "* Test your vacation message before leaving on vacation, preferably when you don't receive a lot of email.\n",
      "* Temporarily change the start date to the current day (of testing).\n",
      "* Save changes.\n",
      "* Send yourself a test message.\n",
      "* If all is well, reset vacation option to proper start date and save changes.\n",
      "* You could have a pre-defined \"away from my email\" message saved but have Vacation responder off .\n",
      "* On your last day to check email regularly, set Vacation Responder on .\n",
      "* Ensure that your start and end dates are correct.\n",
      "* Save your changes.\n"
     ]
    }
   ],
   "source": [
    "# in valid json only, create for me a list of as many question answer pairs as you can given this data. questions must be in the form of a user asking a chat bot. users do not see this data.\n",
    "\n",
    "# Do not include any explanations, you MUST only provide a RFC8259 compliant JSON response following this format without deviation. [{question:\"\", answer:\"\"}]\n",
    "\n",
    "with open(\"../data/html-data-ignore-all.json\") as f:\n",
    "  html_data_ignore_all = json.load(f)\n",
    "  print(html_data_ignore_all[\"data\"][5][\"answer\"])"
   ],
   "metadata": {
    "collapsed": false,
    "ExecuteTime": {
     "end_time": "2023-10-26T10:27:21.565828Z",
     "start_time": "2023-10-26T10:27:21.560487Z"
    }
   },
   "id": "71d67a97acb02155"
  },
  {
   "cell_type": "code",
   "execution_count": null,
   "outputs": [],
   "source": [],
   "metadata": {
    "collapsed": false
   },
   "id": "7a6279fb349ae03d"
  }
 ],
 "metadata": {
  "kernelspec": {
   "display_name": "Python 3",
   "language": "python",
   "name": "python3"
  },
  "language_info": {
   "codemirror_mode": {
    "name": "ipython",
    "version": 2
   },
   "file_extension": ".py",
   "mimetype": "text/x-python",
   "name": "python",
   "nbconvert_exporter": "python",
   "pygments_lexer": "ipython2",
   "version": "2.7.6"
  }
 },
 "nbformat": 4,
 "nbformat_minor": 5
}
