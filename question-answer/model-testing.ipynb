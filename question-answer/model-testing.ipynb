{
 "cells": [
  {
   "cell_type": "code",
   "execution_count": 4,
   "id": "initial_id",
   "metadata": {
    "collapsed": true,
    "ExecuteTime": {
     "end_time": "2023-10-27T08:44:33.471596Z",
     "start_time": "2023-10-27T08:44:33.467950Z"
    }
   },
   "outputs": [],
   "source": [
    "from helpers.data_helper import get_answer"
   ]
  },
  {
   "cell_type": "code",
   "execution_count": 5,
   "outputs": [
    {
     "name": "stdout",
     "output_type": "stream",
     "text": [
      "Duo Mobile is a mobile application that provides two-factor authentication for logging into various online accounts. It generates passcodes or sends push notifications to your phone for added security.\n"
     ]
    }
   ],
   "source": [
    "print(get_answer(\"what is duo mobile\", \"./data/embedding-data.json\"))"
   ],
   "metadata": {
    "collapsed": false,
    "ExecuteTime": {
     "end_time": "2023-10-27T08:44:37.013274Z",
     "start_time": "2023-10-27T08:44:35.657798Z"
    }
   },
   "id": "772846cc85e00a5f"
  },
  {
   "cell_type": "code",
   "execution_count": 5,
   "outputs": [],
   "source": [],
   "metadata": {
    "collapsed": false,
    "ExecuteTime": {
     "end_time": "2023-10-27T08:14:51.302749Z",
     "start_time": "2023-10-27T08:14:51.296799Z"
    }
   },
   "id": "b904fcbef4b22d10"
  }
 ],
 "metadata": {
  "kernelspec": {
   "display_name": "Python 3",
   "language": "python",
   "name": "python3"
  },
  "language_info": {
   "codemirror_mode": {
    "name": "ipython",
    "version": 2
   },
   "file_extension": ".py",
   "mimetype": "text/x-python",
   "name": "python",
   "nbconvert_exporter": "python",
   "pygments_lexer": "ipython2",
   "version": "2.7.6"
  }
 },
 "nbformat": 4,
 "nbformat_minor": 5
}
