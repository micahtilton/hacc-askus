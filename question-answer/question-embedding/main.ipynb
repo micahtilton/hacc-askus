{
 "cells": [
  {
   "cell_type": "code",
   "execution_count": 14,
   "outputs": [],
   "source": [
    "import json\n",
    "import openai\n",
    "import os\n",
    "import tiktoken\n",
    "import numpy as np"
   ],
   "metadata": {
    "collapsed": false,
    "ExecuteTime": {
     "end_time": "2023-10-26T01:57:01.933291Z",
     "start_time": "2023-10-26T01:57:01.927604Z"
    }
   },
   "id": "32873eecbddd7aef"
  },
  {
   "cell_type": "code",
   "execution_count": 15,
   "outputs": [],
   "source": [
    "def load_html_data(fp):\n",
    "  with open(fp) as html_data:\n",
    "    data = json.load(html_data)[\"data\"]\n",
    "  return data"
   ],
   "metadata": {
    "collapsed": false,
    "ExecuteTime": {
     "end_time": "2023-10-26T01:57:02.489416Z",
     "start_time": "2023-10-26T01:57:02.486304Z"
    }
   },
   "id": "492a3d2e296606cf"
  },
  {
   "cell_type": "code",
   "execution_count": 29,
   "outputs": [],
   "source": [
    "openai.api_key = os.getenv(\"OPENAI_API_KEY\")"
   ],
   "metadata": {
    "collapsed": false,
    "ExecuteTime": {
     "end_time": "2023-10-26T02:04:22.942534Z",
     "start_time": "2023-10-26T02:04:22.934620Z"
    }
   },
   "id": "7381691d316f3f5b"
  },
  {
   "cell_type": "code",
   "execution_count": 17,
   "outputs": [],
   "source": [
    "def get_embedding(text):\n",
    "  response = openai.Embedding.create(\n",
    "      input=text,\n",
    "      model=\"text-embedding-ada-002\",\n",
    "      encoding_format=\"float\"\n",
    "  )\n",
    "\n",
    "  return response[\"data\"][0][\"embedding\"]"
   ],
   "metadata": {
    "collapsed": false,
    "ExecuteTime": {
     "end_time": "2023-10-26T01:57:03.373453Z",
     "start_time": "2023-10-26T01:57:03.370380Z"
    }
   },
   "id": "8b12a3b240a6c246"
  },
  {
   "cell_type": "code",
   "execution_count": 18,
   "outputs": [],
   "source": [
    "def get_embedding_data():\n",
    "  encoding = tiktoken.get_encoding(\"cl100k_base\")\n",
    "  embedding_data = []\n",
    "    \n",
    "  data = load_html_data(\"../data/html-data.json\")\n",
    "  \n",
    "  for data_obj in data:\n",
    "    tokens = encoding.encode(data_obj[\"question\"] + data_obj[\"answer\"])\n",
    "    if len(tokens) > 8190:\n",
    "      tokens = tokens[:8190]\n",
    "    \n",
    "    embedding = get_embedding(encoding.decode(tokens))\n",
    "    \n",
    "    obj = {\n",
    "      \"embedding\": embedding,\n",
    "      \"data\": data_obj\n",
    "    }\n",
    "    embedding_data.append(obj)\n",
    "  \n",
    "  return embedding_data"
   ],
   "metadata": {
    "collapsed": false,
    "ExecuteTime": {
     "end_time": "2023-10-26T01:57:04.550301Z",
     "start_time": "2023-10-26T01:57:04.547943Z"
    }
   },
   "id": "465b711e2a54a8a1"
  },
  {
   "cell_type": "code",
   "execution_count": 19,
   "outputs": [],
   "source": [
    "def save_embedding_data(embedding_data):\n",
    "  with open(\"../data/embedding-data.json\", \"w+\") as embedding_file:\n",
    "    json.dump({\n",
    "      \"embedding-data\": embedding_data\n",
    "    }, embedding_file)"
   ],
   "metadata": {
    "collapsed": false,
    "ExecuteTime": {
     "end_time": "2023-10-26T01:57:05.651148Z",
     "start_time": "2023-10-26T01:57:05.648659Z"
    }
   },
   "id": "90215fbd32cea1e1"
  },
  {
   "cell_type": "code",
   "execution_count": 7,
   "outputs": [],
   "source": [
    "def load_embedding_data(fp):\n",
    "  with open(fp) as embedding_data_file:\n",
    "    data = json.load(embedding_data_file)\n",
    "  return data"
   ],
   "metadata": {
    "collapsed": false,
    "ExecuteTime": {
     "end_time": "2023-10-26T01:52:00.582646Z",
     "start_time": "2023-10-26T01:52:00.580660Z"
    }
   },
   "id": "984e4feabb297214"
  },
  {
   "cell_type": "code",
   "execution_count": 22,
   "outputs": [],
   "source": [
    "def get_similar_faq(question, embedding_data):\n",
    "  input_embedding = get_embedding(question)\n",
    "\n",
    "  most_similar = [0, None]\n",
    "  for embedding in embedding_data:\n",
    "    similarity = np.dot(embedding[\"embedding\"], input_embedding)\n",
    "    if similarity > most_similar[0]:\n",
    "      most_similar[0] = similarity\n",
    "      most_similar[1] = embedding[\"data\"]\n",
    "  \n",
    "  return {\"similarity\": most_similar[0], \"data\": most_similar[1]}"
   ],
   "metadata": {
    "collapsed": false,
    "ExecuteTime": {
     "end_time": "2023-10-26T02:02:48.229586Z",
     "start_time": "2023-10-26T02:02:48.225079Z"
    }
   },
   "id": "615afcd4d989c6bf"
  },
  {
   "cell_type": "code",
   "execution_count": 23,
   "outputs": [],
   "source": [
    "ed = load_embedding_data(\"../data/embedding-data.json\")[\"embedding-data\"]"
   ],
   "metadata": {
    "collapsed": false,
    "ExecuteTime": {
     "end_time": "2023-10-26T02:03:14.298840Z",
     "start_time": "2023-10-26T02:03:14.213037Z"
    }
   },
   "id": "742153e2478c3b33"
  },
  {
   "cell_type": "code",
   "execution_count": 24,
   "outputs": [],
   "source": [
    "def get_summarized_answer(question, embedding_data):\n",
    "  response = get_similar_faq(question, embedding_data)\n",
    "  \n",
    "  similarity = response[\"similarity\"]\n",
    "  \n",
    "  if similarity < 0.75:\n",
    "    return \"I'm sorry, I don't quite understand the question\"\n",
    "  \n",
    "  faq_data = response[\"data\"][\"answer\"]\n",
    "  \n",
    "  chat_response = openai.ChatCompletion.create(\n",
    "    model=\"gpt-3.5-turbo\",\n",
    "    messages=[\n",
    "      {\n",
    "        \"role\": \"system\",\n",
    "        \"content\": f\"you are a chatbot for giving users a concise yet accurate answer. use only this data to answer the users question. you should respond it at most 3 sentences. the data is: {faq_data}\"\n",
    "      },\n",
    "      {\n",
    "        \"role\": \"user\",\n",
    "        \"content\": f\"{question}\"\n",
    "      }\n",
    "    ]\n",
    "  )\n",
    "\n",
    "  return chat_response[\"choices\"][0][\"message\"][\"content\"]"
   ],
   "metadata": {
    "collapsed": false,
    "ExecuteTime": {
     "end_time": "2023-10-26T02:03:19.686983Z",
     "start_time": "2023-10-26T02:03:19.684110Z"
    }
   },
   "id": "41032152d94b9c0e"
  },
  {
   "cell_type": "code",
   "execution_count": 27,
   "outputs": [],
   "source": [
    "chat_response = get_summarized_answer(\"give me some examples of network etiquette\", ed)"
   ],
   "metadata": {
    "collapsed": false,
    "ExecuteTime": {
     "end_time": "2023-10-26T02:04:03.940968Z",
     "start_time": "2023-10-26T02:03:54.381904Z"
    }
   },
   "id": "bee5828282710b88"
  },
  {
   "cell_type": "code",
   "execution_count": 28,
   "outputs": [
    {
     "name": "stdout",
     "output_type": "stream",
     "text": [
      "Some examples of network etiquette, or netiquette, violations include: sending chain mail, spamming mailing lists with irrelevant emails, randomly sending emails to a large number of users, and posting unrelated articles to newsgroups. These actions waste resources, annoy recipients, and can lead to negative reactions and complaints. It is important to observe proper netiquette to maintain a productive and pleasant online environment.\n"
     ]
    }
   ],
   "source": [
    "print(chat_response)"
   ],
   "metadata": {
    "collapsed": false,
    "ExecuteTime": {
     "end_time": "2023-10-26T02:04:04.874865Z",
     "start_time": "2023-10-26T02:04:04.870365Z"
    }
   },
   "id": "833be08178d48bad"
  },
  {
   "cell_type": "code",
   "execution_count": null,
   "outputs": [],
   "source": [],
   "metadata": {
    "collapsed": false
   },
   "id": "7d916dd8c9353913"
  }
 ],
 "metadata": {
  "kernelspec": {
   "display_name": "Python 3",
   "language": "python",
   "name": "python3"
  },
  "language_info": {
   "codemirror_mode": {
    "name": "ipython",
    "version": 2
   },
   "file_extension": ".py",
   "mimetype": "text/x-python",
   "name": "python",
   "nbconvert_exporter": "python",
   "pygments_lexer": "ipython2",
   "version": "2.7.6"
  }
 },
 "nbformat": 4,
 "nbformat_minor": 5
}
