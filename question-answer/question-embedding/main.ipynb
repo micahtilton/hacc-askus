{
 "cells": [
  {
   "cell_type": "code",
   "execution_count": 1,
   "outputs": [
    {
     "name": "stderr",
     "output_type": "stream",
     "text": [
      "/Users/micahtilton/Documents/github/hacc-askus/question-answer/venv/lib/python3.9/site-packages/urllib3/__init__.py:34: NotOpenSSLWarning: urllib3 v2.0 only supports OpenSSL 1.1.1+, currently the 'ssl' module is compiled with 'LibreSSL 2.8.3'. See: https://github.com/urllib3/urllib3/issues/3020\n",
      "  warnings.warn(\n"
     ]
    }
   ],
   "source": [
    "import json\n",
    "import openai\n",
    "import os\n",
    "import tiktoken\n",
    "import numpy as np"
   ],
   "metadata": {
    "collapsed": false,
    "ExecuteTime": {
     "end_time": "2023-10-25T00:17:31.216915Z",
     "start_time": "2023-10-25T00:17:31.001630Z"
    }
   },
   "id": "32873eecbddd7aef"
  },
  {
   "cell_type": "code",
   "execution_count": 2,
   "outputs": [],
   "source": [
    "def load_html_data(fp):\n",
    "  with open(fp) as html_data:\n",
    "    data = json.load(html_data)[\"data\"]\n",
    "  return data"
   ],
   "metadata": {
    "collapsed": false,
    "ExecuteTime": {
     "end_time": "2023-10-25T00:17:32.205720Z",
     "start_time": "2023-10-25T00:17:32.201505Z"
    }
   },
   "id": "492a3d2e296606cf"
  },
  {
   "cell_type": "code",
   "execution_count": 3,
   "outputs": [],
   "source": [
    "openai.api_key = os.getenv(\"OPENAI_API_KEY\")"
   ],
   "metadata": {
    "collapsed": false,
    "ExecuteTime": {
     "end_time": "2023-10-25T00:17:32.774235Z",
     "start_time": "2023-10-25T00:17:32.771427Z"
    }
   },
   "id": "7381691d316f3f5b"
  },
  {
   "cell_type": "code",
   "execution_count": 4,
   "outputs": [],
   "source": [
    "def get_embedding(text):\n",
    "  response = openai.Embedding.create(\n",
    "      input=text,\n",
    "      model=\"text-embedding-ada-002\",\n",
    "      encoding_format=\"float\"\n",
    "  )\n",
    "\n",
    "  return response[\"data\"][0][\"embedding\"]"
   ],
   "metadata": {
    "collapsed": false,
    "ExecuteTime": {
     "end_time": "2023-10-25T00:17:33.191189Z",
     "start_time": "2023-10-25T00:17:33.188502Z"
    }
   },
   "id": "8b12a3b240a6c246"
  },
  {
   "cell_type": "code",
   "execution_count": 5,
   "outputs": [],
   "source": [
    "def get_embedding_data():\n",
    "  encoding = tiktoken.get_encoding(\"cl100k_base\")\n",
    "  embedding_data = []\n",
    "    \n",
    "  data = load_html_data(\"../data/html-data.json\")\n",
    "  \n",
    "  for data_obj in data:\n",
    "    tokens = encoding.encode(data_obj[\"question\"] + data_obj[\"answer\"])\n",
    "    if len(tokens) > 8190:\n",
    "      tokens = tokens[:8190]\n",
    "    \n",
    "    embedding = get_embedding(encoding.decode(tokens))\n",
    "    \n",
    "    obj = {\n",
    "      \"embedding\": embedding,\n",
    "      \"data\": data_obj\n",
    "    }\n",
    "    embedding_data.append(obj)\n",
    "  \n",
    "  return embedding_data"
   ],
   "metadata": {
    "collapsed": false,
    "ExecuteTime": {
     "end_time": "2023-10-25T00:17:33.768904Z",
     "start_time": "2023-10-25T00:17:33.764470Z"
    }
   },
   "id": "465b711e2a54a8a1"
  },
  {
   "cell_type": "code",
   "execution_count": 6,
   "outputs": [],
   "source": [
    "def save_embedding_data(fp, embedding_data):\n",
    "  with open(\"../data/embedding-data-with-answer.json\", \"w+\") as embedding_file:\n",
    "    json.dump({\n",
    "      \"embedding-data\": embedding_data\n",
    "    }, embedding_file)"
   ],
   "metadata": {
    "collapsed": false,
    "ExecuteTime": {
     "end_time": "2023-10-25T00:17:34.665099Z",
     "start_time": "2023-10-25T00:17:34.659926Z"
    }
   },
   "id": "90215fbd32cea1e1"
  },
  {
   "cell_type": "code",
   "execution_count": 7,
   "outputs": [],
   "source": [
    "def load_embedding_data(fp):\n",
    "  with open(fp) as embedding_data_file:\n",
    "    data = json.load(embedding_data_file)\n",
    "  return data"
   ],
   "metadata": {
    "collapsed": false,
    "ExecuteTime": {
     "end_time": "2023-10-25T00:17:36.062767Z",
     "start_time": "2023-10-25T00:17:36.057672Z"
    }
   },
   "id": "984e4feabb297214"
  },
  {
   "cell_type": "code",
   "execution_count": 10,
   "outputs": [],
   "source": [
    "def get_similar_faq(question, embedding_data):\n",
    "  input_embedding = get_embedding(question)\n",
    "\n",
    "  most_similar = [0, None]\n",
    "  for embedding in embedding_data:\n",
    "    similarity = np.dot(embedding[\"embedding\"], input_embedding)\n",
    "    if similarity > most_similar[0]:\n",
    "      most_similar[0] = similarity\n",
    "      most_similar[1] = embedding[\"data\"]\n",
    "  \n",
    "  return {\"similarity\": most_similar[0], \"data\": most_similar[1]}"
   ],
   "metadata": {
    "collapsed": false,
    "ExecuteTime": {
     "end_time": "2023-10-25T00:17:57.963181Z",
     "start_time": "2023-10-25T00:17:57.958619Z"
    }
   },
   "id": "615afcd4d989c6bf"
  },
  {
   "cell_type": "code",
   "execution_count": 43,
   "outputs": [],
   "source": [
    "ed = load_embedding_data(\"../data/embedding-data-with-answer.json\")[\"embedding-data\"]"
   ],
   "metadata": {
    "collapsed": false,
    "ExecuteTime": {
     "end_time": "2023-10-25T00:30:51.017506Z",
     "start_time": "2023-10-25T00:30:50.919711Z"
    }
   },
   "id": "742153e2478c3b33"
  },
  {
   "cell_type": "code",
   "execution_count": 141,
   "outputs": [],
   "source": [
    "def get_summarized_answer(question, embedding_data):\n",
    "  response = get_similar_faq(question, embedding_data)\n",
    "  \n",
    "  similarity = response[\"similarity\"]\n",
    "  \n",
    "  if similarity < 0.75:\n",
    "    return \"I'm sorry, I don't quite understand the question\"\n",
    "  \n",
    "  faq_data = response[\"data\"][\"answer\"]\n",
    "  \n",
    "  chat_response = openai.ChatCompletion.create(\n",
    "    model=\"gpt-3.5-turbo\",\n",
    "    messages=[\n",
    "      {\n",
    "        \"role\": \"system\",\n",
    "        \"content\": f\"you are a chatbot for giving users a concise yet accurate answer. use only this data to answer the users question. you should respond it at most 3 sentences. the data is: {faq_data}\"\n",
    "      },\n",
    "      {\n",
    "        \"role\": \"user\",\n",
    "        \"content\": f\"{question}\"\n",
    "      }\n",
    "    ]\n",
    "  )\n",
    "\n",
    "  return chat_response[\"choices\"][0][\"message\"][\"content\"]"
   ],
   "metadata": {
    "collapsed": false,
    "ExecuteTime": {
     "end_time": "2023-10-25T01:46:53.237221Z",
     "start_time": "2023-10-25T01:46:53.231916Z"
    }
   },
   "id": "41032152d94b9c0e"
  },
  {
   "cell_type": "code",
   "execution_count": 146,
   "outputs": [],
   "source": [
    "chat_response = get_summarized_answer(\"give me some examples of network etiquette\", ed)"
   ],
   "metadata": {
    "collapsed": false,
    "ExecuteTime": {
     "end_time": "2023-10-25T01:52:06.926377Z",
     "start_time": "2023-10-25T01:51:59.802913Z"
    }
   },
   "id": "bee5828282710b88"
  },
  {
   "cell_type": "code",
   "execution_count": 147,
   "outputs": [
    {
     "name": "stdout",
     "output_type": "stream",
     "text": [
      "Examples of network etiquette include:\n",
      "1. Respecting others' time and resources by not sending chain mail or irrelevant material to a widespread audience.\n",
      "2. Avoiding spamming or sending irrelevant emails to mailing lists, as it wastes computer and network resources.\n",
      "3. Posting articles or messages that are relevant to the topic of a newsgroup to avoid causing confusion and unnecessary reactions.\n"
     ]
    }
   ],
   "source": [
    "print(chat_response)"
   ],
   "metadata": {
    "collapsed": false,
    "ExecuteTime": {
     "end_time": "2023-10-25T01:52:07.578887Z",
     "start_time": "2023-10-25T01:52:07.574300Z"
    }
   },
   "id": "833be08178d48bad"
  },
  {
   "cell_type": "code",
   "execution_count": null,
   "outputs": [],
   "source": [],
   "metadata": {
    "collapsed": false
   },
   "id": "7d916dd8c9353913"
  }
 ],
 "metadata": {
  "kernelspec": {
   "display_name": "Python 3",
   "language": "python",
   "name": "python3"
  },
  "language_info": {
   "codemirror_mode": {
    "name": "ipython",
    "version": 2
   },
   "file_extension": ".py",
   "mimetype": "text/x-python",
   "name": "python",
   "nbconvert_exporter": "python",
   "pygments_lexer": "ipython2",
   "version": "2.7.6"
  }
 },
 "nbformat": 4,
 "nbformat_minor": 5
}
