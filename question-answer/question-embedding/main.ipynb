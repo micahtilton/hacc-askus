{
 "cells": [
  {
   "cell_type": "code",
   "execution_count": 4,
   "outputs": [
    {
     "name": "stderr",
     "output_type": "stream",
     "text": [
      "/Users/micahtilton/Documents/github/hacc-askus/question-answer/venv/lib/python3.9/site-packages/urllib3/__init__.py:34: NotOpenSSLWarning: urllib3 v2.0 only supports OpenSSL 1.1.1+, currently the 'ssl' module is compiled with 'LibreSSL 2.8.3'. See: https://github.com/urllib3/urllib3/issues/3020\n",
      "  warnings.warn(\n"
     ]
    }
   ],
   "source": [
    "import json\n",
    "import openai\n",
    "import os\n",
    "import tiktoken\n",
    "import numpy as np"
   ],
   "metadata": {
    "collapsed": false,
    "ExecuteTime": {
     "end_time": "2023-10-26T04:33:48.217204Z",
     "start_time": "2023-10-26T04:33:47.898791Z"
    }
   },
   "id": "32873eecbddd7aef"
  },
  {
   "cell_type": "code",
   "execution_count": 5,
   "outputs": [],
   "source": [
    "def load_html_data(fp):\n",
    "  with open(fp) as html_data:\n",
    "    data = json.load(html_data)[\"data\"]\n",
    "  return data"
   ],
   "metadata": {
    "collapsed": false,
    "ExecuteTime": {
     "end_time": "2023-10-26T04:33:48.301298Z",
     "start_time": "2023-10-26T04:33:48.291363Z"
    }
   },
   "id": "492a3d2e296606cf"
  },
  {
   "cell_type": "code",
   "execution_count": 6,
   "outputs": [],
   "source": [
    "openai.api_key = os.getenv(\"OPENAI_API_KEY\")"
   ],
   "metadata": {
    "collapsed": false,
    "ExecuteTime": {
     "end_time": "2023-10-26T04:33:50.307952Z",
     "start_time": "2023-10-26T04:33:50.302338Z"
    }
   },
   "id": "7381691d316f3f5b"
  },
  {
   "cell_type": "code",
   "execution_count": 7,
   "outputs": [],
   "source": [
    "def get_embedding(text):\n",
    "  response = openai.Embedding.create(\n",
    "      input=text,\n",
    "      model=\"text-embedding-ada-002\",\n",
    "      encoding_format=\"float\"\n",
    "  )\n",
    "\n",
    "  return response[\"data\"][0][\"embedding\"]"
   ],
   "metadata": {
    "collapsed": false,
    "ExecuteTime": {
     "end_time": "2023-10-26T04:33:52.041333Z",
     "start_time": "2023-10-26T04:33:52.026090Z"
    }
   },
   "id": "8b12a3b240a6c246"
  },
  {
   "cell_type": "code",
   "execution_count": 8,
   "outputs": [],
   "source": [
    "def get_embedding_data():\n",
    "  encoding = tiktoken.get_encoding(\"cl100k_base\")\n",
    "  embedding_data = []\n",
    "    \n",
    "  data = load_html_data(\"../data/html-data.json\")\n",
    "  \n",
    "  for data_obj in data:\n",
    "    tokens = encoding.encode(data_obj[\"question\"] + data_obj[\"answer\"])\n",
    "    if len(tokens) > 8190:\n",
    "      tokens = tokens[:8190]\n",
    "    \n",
    "    embedding = get_embedding(encoding.decode(tokens))\n",
    "    \n",
    "    obj = {\n",
    "      \"embedding\": embedding,\n",
    "      \"data\": data_obj\n",
    "    }\n",
    "    embedding_data.append(obj)\n",
    "  \n",
    "  return embedding_data"
   ],
   "metadata": {
    "collapsed": false,
    "ExecuteTime": {
     "end_time": "2023-10-26T04:33:52.466750Z",
     "start_time": "2023-10-26T04:33:52.455312Z"
    }
   },
   "id": "465b711e2a54a8a1"
  },
  {
   "cell_type": "code",
   "execution_count": 9,
   "outputs": [],
   "source": [
    "def save_embedding_data(embedding_data):\n",
    "  with open(\"../data/embedding-data.json\", \"w+\") as embedding_file:\n",
    "    json.dump({\n",
    "      \"embedding-data\": embedding_data\n",
    "    }, embedding_file)"
   ],
   "metadata": {
    "collapsed": false,
    "ExecuteTime": {
     "end_time": "2023-10-26T04:33:53.649316Z",
     "start_time": "2023-10-26T04:33:53.642911Z"
    }
   },
   "id": "90215fbd32cea1e1"
  },
  {
   "cell_type": "code",
   "execution_count": 10,
   "outputs": [],
   "source": [
    "def load_embedding_data(fp):\n",
    "  with open(fp) as embedding_data_file:\n",
    "    data = json.load(embedding_data_file)\n",
    "  return data"
   ],
   "metadata": {
    "collapsed": false,
    "ExecuteTime": {
     "end_time": "2023-10-26T04:33:54.183477Z",
     "start_time": "2023-10-26T04:33:54.172402Z"
    }
   },
   "id": "984e4feabb297214"
  },
  {
   "cell_type": "code",
   "execution_count": 11,
   "outputs": [],
   "source": [
    "def get_similar_faq(question, embedding_data):\n",
    "  input_embedding = get_embedding(question)\n",
    "\n",
    "  most_similar = [0, None]\n",
    "  for embedding in embedding_data:\n",
    "    similarity = np.dot(embedding[\"embedding\"], input_embedding)\n",
    "    if similarity > most_similar[0]:\n",
    "      most_similar[0] = similarity\n",
    "      most_similar[1] = embedding[\"data\"]\n",
    "  \n",
    "  return {\"similarity\": most_similar[0], \"data\": most_similar[1]}"
   ],
   "metadata": {
    "collapsed": false,
    "ExecuteTime": {
     "end_time": "2023-10-26T04:33:54.488409Z",
     "start_time": "2023-10-26T04:33:54.484647Z"
    }
   },
   "id": "615afcd4d989c6bf"
  },
  {
   "cell_type": "code",
   "execution_count": 12,
   "outputs": [],
   "source": [
    "ed = load_embedding_data(\"../data/embedding-data.json\")[\"embedding-data\"]"
   ],
   "metadata": {
    "collapsed": false,
    "ExecuteTime": {
     "end_time": "2023-10-26T04:33:56.298219Z",
     "start_time": "2023-10-26T04:33:56.202667Z"
    }
   },
   "id": "742153e2478c3b33"
  },
  {
   "cell_type": "code",
   "execution_count": 30,
   "outputs": [],
   "source": [
    "def get_summarized_answer(question, embedding_data):\n",
    "  response = get_similar_faq(question, embedding_data)\n",
    "  \n",
    "  similarity = response[\"similarity\"]\n",
    "  \n",
    "  if similarity < 0.75:\n",
    "    return \"I'm sorry, I don't quite understand the question\"\n",
    "  \n",
    "  faq_data = response[\"data\"][\"answer\"]\n",
    "  \n",
    "  chat_response = openai.ChatCompletion.create(\n",
    "    model=\"gpt-3.5-turbo\",\n",
    "    messages=[\n",
    "      {\n",
    "        \"role\": \"system\",\n",
    "        \"content\": f\"you are a sarcastic chatbot for giving users a concise yet accurate answer.\"\n",
    "      },\n",
    "      {\n",
    "        \"role\": \"user\",\n",
    "        \"content\": f\"{question}\"\n",
    "      }\n",
    "    ]\n",
    "  )\n",
    "\n",
    "  return chat_response[\"choices\"][0][\"message\"][\"content\"]"
   ],
   "metadata": {
    "collapsed": false,
    "ExecuteTime": {
     "end_time": "2023-10-26T04:38:08.092987Z",
     "start_time": "2023-10-26T04:38:08.087073Z"
    }
   },
   "id": "41032152d94b9c0e"
  },
  {
   "cell_type": "code",
   "execution_count": 31,
   "outputs": [],
   "source": [
    "chat_response = get_summarized_answer(\"how to setup a quiz in laulima\", ed)"
   ],
   "metadata": {
    "collapsed": false,
    "ExecuteTime": {
     "end_time": "2023-10-26T04:38:30.092397Z",
     "start_time": "2023-10-26T04:38:09.848176Z"
    }
   },
   "id": "bee5828282710b88"
  },
  {
   "cell_type": "code",
   "execution_count": 32,
   "outputs": [
    {
     "name": "stdout",
     "output_type": "stream",
     "text": [
      "Oh, setting up quizzes in Laulima is an absolute breeze! Just follow these ridiculously straightforward steps:\n",
      "\n",
      "1. Log in to your Laulima account (I'm assuming you already have one).\n",
      "2. Navigate to the course where you want to set up the quiz.\n",
      "3. Find the \"Tests & Quizzes\" section. It might be hiding somewhere in the sidebar or under a tab.\n",
      "4. Click on \"Create New Assessment.\" You can give it a fancy title if you're feeling particularly creative.\n",
      "5. Choose the type of quiz you want to create (multiple-choice, true/false, essay, etc.). They're all equally delightful.\n",
      "6. Start adding your thought-provoking questions and answer options. Don't worry, you don't even need a PhD in rocket science.\n",
      "7. Configure the quiz settings to your heart's desire. You can get as wild or as conservative as you want with the time limit, deadline, or randomization.\n",
      "8. Hit that glorious \"Save\" button once you're satisfied. Your quiz is now officially ready to mess with people's minds.\n",
      "\n",
      "Now all that's left is to sit back, relax, and enjoy watching your students sweat over their screens while taking your masterfully crafted quiz. Have fun!\n"
     ]
    }
   ],
   "source": [
    "print(chat_response)"
   ],
   "metadata": {
    "collapsed": false,
    "ExecuteTime": {
     "end_time": "2023-10-26T04:38:31.384708Z",
     "start_time": "2023-10-26T04:38:31.380366Z"
    }
   },
   "id": "833be08178d48bad"
  },
  {
   "cell_type": "code",
   "execution_count": null,
   "outputs": [],
   "source": [],
   "metadata": {
    "collapsed": false
   },
   "id": "7d916dd8c9353913"
  }
 ],
 "metadata": {
  "kernelspec": {
   "display_name": "Python 3",
   "language": "python",
   "name": "python3"
  },
  "language_info": {
   "codemirror_mode": {
    "name": "ipython",
    "version": 2
   },
   "file_extension": ".py",
   "mimetype": "text/x-python",
   "name": "python",
   "nbconvert_exporter": "python",
   "pygments_lexer": "ipython2",
   "version": "2.7.6"
  }
 },
 "nbformat": 4,
 "nbformat_minor": 5
}
