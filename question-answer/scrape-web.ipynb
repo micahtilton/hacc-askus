{
 "cells": [
  {
   "cell_type": "code",
   "execution_count": 13,
   "id": "initial_id",
   "metadata": {
    "collapsed": true,
    "ExecuteTime": {
     "end_time": "2023-11-06T14:53:09.466901Z",
     "start_time": "2023-11-06T14:53:09.460181Z"
    }
   },
   "outputs": [],
   "source": [
    "import requests\n",
    "from bs4 import BeautifulSoup\n",
    "import trafilatura\n",
    "from helpers.openai_helper import split_by_tokens, get_embedding\n",
    "import json\n",
    "from helpers.scrape_html import clean_webpage"
   ]
  },
  {
   "cell_type": "code",
   "execution_count": 2,
   "outputs": [],
   "source": [
    "def get_relevant_info(url):\n",
    "  request = requests.get(url)\n",
    "  soup = BeautifulSoup(request.text)\n",
    "  res = soup.find('main')\n",
    "  \n",
    "  if res:\n",
    "    return trafilatura.extract(\"<html>\"+str(res)+\"</html>\").replace(\"\\n\", \" \")\n",
    "  else:\n",
    "    return trafilatura.extract(request.text, include_links=True).replace(\"\\n\", \" \")"
   ],
   "metadata": {
    "collapsed": false,
    "ExecuteTime": {
     "end_time": "2023-11-06T14:34:46.338566Z",
     "start_time": "2023-11-06T14:34:46.335308Z"
    }
   },
   "id": "e120cf3989cc28d5"
  },
  {
   "cell_type": "code",
   "execution_count": 3,
   "outputs": [],
   "source": [
    "def crawl_into_url(urls, allowed_domains = list(), restricted_domains = list(), max_depth = 2):\n",
    "  all_urls = []\n",
    "  \n",
    "  urls_to_visit = urls\n",
    "  urls_seen = set()\n",
    "  urls_to_visit_next = [] \n",
    "  depth = 0\n",
    "  while depth < max_depth:\n",
    "    for url in urls_to_visit:\n",
    "      if url in urls_seen:\n",
    "        continue\n",
    "\n",
    "      urls_seen.add(url)\n",
    "      all_urls.append(url)\n",
    "      r = requests.get(url) \n",
    "      soup = BeautifulSoup(r.text)\n",
    "      found_urls = list(map(lambda x: x['href'], soup.find_all('a', href=True)))\n",
    "      \n",
    "      for found_url in found_urls:\n",
    "        if not found_url.startswith(\"https://\"):\n",
    "          continue\n",
    "        \n",
    "        if allowed_domains:\n",
    "         if not any(map(lambda domain: found_url.startswith(domain), allowed_domains)):\n",
    "           continue\n",
    "        \n",
    "        if restricted_domains:\n",
    "          if any(map(lambda domain: found_url.startswith(domain), restricted_domains)):\n",
    "            continue\n",
    "             \n",
    "        if found_url.endswith(\"/\"):\n",
    "          found_url = found_url[:-1]\n",
    "            \n",
    "        urls_to_visit_next.append(found_url)\n",
    "        \n",
    "    urls_to_visit = urls_to_visit_next\n",
    "    urls_to_visit_next = []\n",
    "    depth = depth + 1\n",
    "      \n",
    "  return all_urls"
   ],
   "metadata": {
    "collapsed": false,
    "ExecuteTime": {
     "end_time": "2023-11-06T14:34:47.434213Z",
     "start_time": "2023-11-06T14:34:47.429739Z"
    }
   },
   "id": "7b90d7778123fcb4"
  },
  {
   "cell_type": "code",
   "execution_count": 4,
   "outputs": [],
   "source": [
    "urls = crawl_into_url([\"https://www.hawaii.edu/its/services\", \"https://www.hawaii.edu/its/services\", \"https://www.hawaii.edu/infosec/policies/\"], allowed_domains=[\"https://www.hawaii.edu\"], restricted_domains=[\"https://www.hawaii.edu/askus\"], max_depth=2)"
   ],
   "metadata": {
    "collapsed": false,
    "ExecuteTime": {
     "end_time": "2023-11-06T14:35:49.504422Z",
     "start_time": "2023-11-06T14:34:52.957281Z"
    }
   },
   "id": "543c1adc37472959"
  },
  {
   "cell_type": "code",
   "execution_count": 17,
   "outputs": [
    {
     "name": "stdout",
     "output_type": "stream",
     "text": [
      "83\n",
      "https://www.hawaii.edu/its/services\n",
      "https://www.hawaii.edu/infosec/policies/\n",
      "https://www.hawaii.edu\n",
      "https://www.hawaii.edu/directory\n",
      "https://www.hawaii.edu/infosec\n",
      "https://www.hawaii.edu/its/alerts\n",
      "https://www.hawaii.edu/its/contact\n",
      "https://www.hawaii.edu/access\n",
      "https://www.hawaii.edu/access/assistive-technology/software/#devices\n",
      "https://www.hawaii.edu/access/assistive-technology/software/#software\n",
      "https://www.hawaii.edu/access/assistive-technology/at\n",
      "https://www.hawaii.edu/access/resources/computer-resources\n",
      "https://www.hawaii.edu/access/section-508/standards\n",
      "https://www.hawaii.edu/access/accessible-content/webaccess\n",
      "https://www.hawaii.edu/etravel\n",
      "https://www.hawaii.edu/ohr/hr-info-systems/peoplesoft\n",
      "https://www.hawaii.edu/sitelic\n",
      "https://www.hawaii.edu/swapmeet\n",
      "https://www.hawaii.edu/its/telecom/forms.html\n",
      "https://www.hawaii.edu/its/ci\n",
      "https://www.hawaii.edu/its/ci/hpc-account-request\n",
      "https://www.hawaii.edu/its/ci/workshops\n",
      "https://www.hawaii.edu/its/ci/ci-partners\n",
      "https://www.hawaii.edu/its/ci/ci-research\n",
      "https://www.hawaii.edu/its/ci/about\n",
      "https://www.hawaii.edu/its/ci/ci-contact\n",
      "https://www.hawaii.edu/its/data-and-voice-services\n",
      "https://www.hawaii.edu/its/telecom/ConferenceBridge.html\n",
      "https://www.hawaii.edu/its/telecom/longdistance.html\n",
      "https://www.hawaii.edu/its/telecom/servicerates.html\n",
      "https://www.hawaii.edu/google\n",
      "https://www.hawaii.edu/henc\n",
      "https://www.hawaii.edu/henc/hsdm\n",
      "https://www.hawaii.edu/henc/reports\n",
      "https://www.hawaii.edu/henc/faq\n",
      "https://www.hawaii.edu/its/banner\n",
      "https://www.hawaii.edu/dl/pswhatisdistancelearning\n",
      "https://www.hawaii.edu/its/uhcable\n",
      "https://www.hawaii.edu/sitelic/zoom\n",
      "https://www.hawaii.edu/its/servers-data-center-storage-services\n",
      "https://www.hawaii.edu/its/servers-data-center-storage-services/colocation\n",
      "https://www.hawaii.edu/its/datacenter/services.php?cat=dc\n",
      "https://www.hawaii.edu/via\n",
      "https://www.hawaii.edu/offices/eeo/policies\n",
      "https://www.hawaii.edu/infotech/policies/itpolicy.html\n",
      "https://www.hawaii.edu/calendar\n",
      "https://www.hawaii.edu/emergency\n",
      "https://www.hawaii.edu/privacy\n",
      "https://www.hawaii.edu/contact\n",
      "https://www.hawaii.edu/infosec/notification\n",
      "https://www.hawaii.edu/infosec/policies\n",
      "https://www.hawaii.edu/infosec/hipaa\n",
      "https://www.hawaii.edu/infosec/training\n",
      "https://www.hawaii.edu/infosec/minimum-standards\n",
      "https://www.hawaii.edu/infosec/assets/minimum-standards/consolidated\n",
      "https://www.hawaii.edu/infosec/assets/minimum-standards/endpoints\n",
      "https://www.hawaii.edu/infosec/assets/minimum-standards/servers\n",
      "https://www.hawaii.edu/infosec/assets/minimum-standards/multifunction-devices\n",
      "https://www.hawaii.edu/uhdatagov\n",
      "https://www.hawaii.edu/infosec/resources-tips\n",
      "https://www.hawaii.edu/infosec/resources-tips/personal-security-checklist\n",
      "https://www.hawaii.edu/its/information/survey\n",
      "https://www.hawaii.edu/its/server/registration\n",
      "https://www.hawaii.edu/infosec/proofpoint\n",
      "https://www.hawaii.edu/sitelic/dropbox\n",
      "https://www.hawaii.edu/infosec/resources-tips/encryption\n",
      "https://www.hawaii.edu/infosec/spearphishing\n",
      "https://www.hawaii.edu/infosec/phishing\n",
      "https://www.hawaii.edu/infosec/resources-tips/mobile-device-security\n",
      "https://www.hawaii.edu/infosec/international-travel\n",
      "https://www.hawaii.edu/its\n",
      "https://www.hawaii.edu/infosec/infosecprogram\n",
      "https://www.hawaii.edu/policy/ep2.210\n",
      "https://www.hawaii.edu/policy/ep2.214\n",
      "https://www.hawaii.edu/policy/ep2.215\n",
      "https://www.hawaii.edu/policy/ep2.216\n",
      "https://www.hawaii.edu/policy/ep2.217\n",
      "https://www.hawaii.edu/policy/ep2.218\n",
      "https://www.hawaii.edu/policy/ep2.219\n",
      "https://www.hawaii.edu/policy/ep7.208\n",
      "https://www.hawaii.edu/policy/ep8.200\n",
      "https://www.hawaii.edu/policy/ap7.022\n",
      "https://www.hawaii.edu/policy/ap8.710\n"
     ]
    }
   ],
   "source": [
    "print(len(urls))\n",
    "for url in urls:\n",
    "  print(url)"
   ],
   "metadata": {
    "collapsed": false,
    "ExecuteTime": {
     "end_time": "2023-11-06T15:11:04.929927Z",
     "start_time": "2023-11-06T15:11:04.921673Z"
    }
   },
   "id": "d437a8a9bc545453"
  },
  {
   "cell_type": "code",
   "execution_count": 15,
   "outputs": [],
   "source": [
    "def embed_urls(fp, urls):\n",
    "  embedding_arr = []\n",
    "  \n",
    "  for url in urls:\n",
    "    text_splits = split_by_tokens(clean_webpage(get_relevant_info(url)))\n",
    "    for text_split in text_splits:\n",
    "      embedding = get_embedding(text_split)\n",
    "      embedding_arr.append({\n",
    "        \"source\": url,\n",
    "        \"embedding\": embedding,\n",
    "        \"text\": text_split,\n",
    "      })\n",
    "    \n",
    "    with open(fp, \"w+\") as f:\n",
    "      json.dump(embedding_arr, f)"
   ],
   "metadata": {
    "collapsed": false,
    "ExecuteTime": {
     "end_time": "2023-11-06T14:53:50.757810Z",
     "start_time": "2023-11-06T14:53:50.755545Z"
    }
   },
   "id": "3cb4d213395f72bc"
  },
  {
   "cell_type": "code",
   "execution_count": 16,
   "outputs": [],
   "source": [
    "embed_urls(\"./data/embedding-data-bonus.json\", urls)"
   ],
   "metadata": {
    "collapsed": false,
    "ExecuteTime": {
     "end_time": "2023-11-06T14:56:14.791016Z",
     "start_time": "2023-11-06T14:53:51.980604Z"
    }
   },
   "id": "d14356a54ed0e319"
  },
  {
   "cell_type": "code",
   "execution_count": null,
   "outputs": [],
   "source": [],
   "metadata": {
    "collapsed": false
   },
   "id": "cd65034290eccfcc"
  }
 ],
 "metadata": {
  "kernelspec": {
   "display_name": "Python 3",
   "language": "python",
   "name": "python3"
  },
  "language_info": {
   "codemirror_mode": {
    "name": "ipython",
    "version": 2
   },
   "file_extension": ".py",
   "mimetype": "text/x-python",
   "name": "python",
   "nbconvert_exporter": "python",
   "pygments_lexer": "ipython2",
   "version": "2.7.6"
  }
 },
 "nbformat": 4,
 "nbformat_minor": 5
}
