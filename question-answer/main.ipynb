{
 "cells": [
  {
   "cell_type": "code",
   "execution_count": 61,
   "outputs": [],
   "source": [
    "from bs4 import BeautifulSoup\n",
    "import html2text\n",
    "from glob import glob\n",
    "from pathlib import Path\n",
    "import pandas as pd"
   ],
   "metadata": {
    "collapsed": false,
    "ExecuteTime": {
     "end_time": "2023-10-24T04:15:17.092843Z",
     "start_time": "2023-10-24T04:15:17.088308Z"
    }
   },
   "id": "21cb6069d5872562"
  },
  {
   "cell_type": "code",
   "execution_count": 56,
   "id": "initial_id",
   "metadata": {
    "collapsed": true,
    "ExecuteTime": {
     "end_time": "2023-10-24T03:30:35.634914Z",
     "start_time": "2023-10-24T03:30:35.629573Z"
    }
   },
   "outputs": [],
   "source": [
    "def get_question_answer_htt(html_path):\n",
    "  h = html2text.HTML2Text()\n",
    "  h.ignore_images = True\n",
    "  h.tag_stack = False\n",
    "  h.drop_white_space = True\n",
    "  \n",
    "  html_file = open(html_path)\n",
    "  soup = BeautifulSoup(html_file)\n",
    "  html_file.close()\n",
    "  \n",
    "  question = soup.find(id=\"kb_article_question\")\n",
    "  if not question:\n",
    "    return None\n",
    "  question = question.prettify()\n",
    "  \n",
    "  answer = soup.find(id=\"kb_article_text\")\n",
    "  if not answer:\n",
    "    return None\n",
    "  answer = answer.prettify()\n",
    "  \n",
    "  return {\n",
    "    \"question\": h.handle(question).strip(),\n",
    "    \"answer\": h.handle(answer).strip()\n",
    "  } "
   ]
  },
  {
   "cell_type": "code",
   "execution_count": 57,
   "outputs": [],
   "source": [
    "def get_question_answer(html_path):\n",
    "    html_file = open(html_path)\n",
    "    soup = BeautifulSoup(html_file)\n",
    "    html_file.close()\n",
    "\n",
    "    question = soup.find(id=\"kb_article_question\")\n",
    "    if not question:\n",
    "        return None\n",
    "    question = question.text.strip()\n",
    "\n",
    "    answer = soup.find(id=\"kb_article_text\")\n",
    "    if not answer:\n",
    "        return None\n",
    "    answer = answer.text.strip()\n",
    "    \n",
    "    return {\n",
    "        \"question\": question,\n",
    "        \"answer\": answer \n",
    "    }"
   ],
   "metadata": {
    "collapsed": false,
    "ExecuteTime": {
     "end_time": "2023-10-24T03:30:36.628017Z",
     "start_time": "2023-10-24T03:30:36.623887Z"
    }
   },
   "id": "b4a55f6c9c385bbb"
  },
  {
   "cell_type": "code",
   "execution_count": 64,
   "outputs": [
    {
     "name": "stdout",
     "output_type": "stream",
     "text": [
      "710\n",
      "1230\n",
      "655\n",
      "1660\n",
      "985\n",
      "74\n",
      "1549\n",
      "1119\n",
      "593\n",
      "252\n"
     ]
    }
   ],
   "source": [
    "data = []\n",
    "\n",
    "for path in glob(\"./html-archive/*.html\")[:10]:\n",
    "  html_file_path = Path(path)\n",
    "  id = html_file_path.stem\n",
    "   \n",
    "  question_answer = get_question_answer_htt(html_file_path)\n",
    "  if not question_answer:\n",
    "    continue\n",
    "  # data.append([\n",
    "  #   html_file_path,\n",
    "  #   question_answer[\"question\"],\n",
    "  #   question_answer[\"answer\"]\n",
    "  # ])\n",
    "  data.append(question_answer[\"question\"])\n",
    "\n",
    "# df = pd.DataFrame(data, columns=[\"id\", \"question\", \"answer\"])\n",
    "# df.to_csv(\"data.csv\")"
   ],
   "metadata": {
    "collapsed": false,
    "ExecuteTime": {
     "end_time": "2023-10-24T04:16:04.139654Z",
     "start_time": "2023-10-24T04:16:04.077327Z"
    }
   },
   "id": "dcdeeeec040ec645"
  },
  {
   "cell_type": "code",
   "execution_count": 49,
   "outputs": [
    {
     "name": "stdout",
     "output_type": "stream",
     "text": [
      "<h2 id=\"kb_article_question\">\n",
      " NACHA Phishing Email\n",
      "</h2>\n",
      "\n",
      "{'question': '##  NACHA Phishing Email\\n\\n  *[\\n     UH\\n    ]: University of Hawaii\\n  *[\\n   UH\\n\\n  ]: University of Hawaii\\n\\n  *[\\n    sFTP\\n   ]: secure FTP\\n\\n  *[\\n     ITS\\n    ]: Information Technology Services\\n  *[\\n    ITS\\n   ]: Information Technology Services\\n\\n  *[\\n     FAQ\\n    ]: Frequently Asked Questions\\n  *[\\n    UH\\n   ]: University of Hawaii', 'answer': \"If you receive an email like this one,  **DO NOT CLICK ON THE REPORT!** It's\\nan infected link.\\n\\n  *[\\n     UH\\n    ]: University of Hawaii\\n  *[\\n   UH\\n\\n  ]: University of Hawaii\\n\\n  *[\\n    sFTP\\n   ]: secure FTP\\n\\n  *[\\n     ITS\\n    ]: Information Technology Services\\n  *[\\n    ITS\\n   ]: Information Technology Services\\n\\n  *[\\n     FAQ\\n    ]: Frequently Asked Questions\\n  *[\\n    UH\\n   ]: University of Hawaii\"}\n"
     ]
    }
   ],
   "source": [
    "print(get_question_answer_htt(\"./html-archive/1307.html\"))"
   ],
   "metadata": {
    "collapsed": false,
    "ExecuteTime": {
     "end_time": "2023-10-24T03:28:34.946965Z",
     "start_time": "2023-10-24T03:28:34.932991Z"
    }
   },
   "id": "b7d0c12b5f2dde03"
  },
  {
   "cell_type": "code",
   "execution_count": 36,
   "outputs": [
    {
     "name": "stdout",
     "output_type": "stream",
     "text": [
      "{'question': 'NACHA Phishing Email', 'answer': \"If you receive an email like this one, DO NOT CLICK ON THE REPORT!\\xa0 It's an infected link.\"}\n"
     ]
    }
   ],
   "source": [
    "print(get_question_answer(\"./html-archive/1307.html\"))"
   ],
   "metadata": {
    "collapsed": false,
    "ExecuteTime": {
     "end_time": "2023-10-24T03:18:10.281402Z",
     "start_time": "2023-10-24T03:18:10.268919Z"
    }
   },
   "id": "aebfab23cb699321"
  },
  {
   "cell_type": "code",
   "execution_count": 52,
   "outputs": [
    {
     "name": "stdout",
     "output_type": "stream",
     "text": [
      "##  NACHA Phishing Email\n"
     ]
    }
   ],
   "source": [
    "s = \"\"\"<h2 id=\"kb_article_question\">\n",
    " NACHA Phishing Email\n",
    "</h2>\"\"\"\n",
    "\n",
    "print(h.handle(s))"
   ],
   "metadata": {
    "collapsed": false,
    "ExecuteTime": {
     "end_time": "2023-10-24T03:29:32.328997Z",
     "start_time": "2023-10-24T03:29:32.299912Z"
    }
   },
   "id": "82c0079ed81f49ab"
  },
  {
   "cell_type": "code",
   "execution_count": null,
   "outputs": [],
   "source": [],
   "metadata": {
    "collapsed": false
   },
   "id": "c7d118912ca21acd"
  }
 ],
 "metadata": {
  "kernelspec": {
   "display_name": "Python 3",
   "language": "python",
   "name": "python3"
  },
  "language_info": {
   "codemirror_mode": {
    "name": "ipython",
    "version": 2
   },
   "file_extension": ".py",
   "mimetype": "text/x-python",
   "name": "python",
   "nbconvert_exporter": "python",
   "pygments_lexer": "ipython2",
   "version": "2.7.6"
  }
 },
 "nbformat": 4,
 "nbformat_minor": 5
}
